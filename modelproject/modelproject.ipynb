{
 "cells": [
  {
   "cell_type": "markdown",
   "metadata": {},
   "source": [
    "# YOUR PROJECT TITLE"
   ]
  },
  {
   "attachments": {},
   "cell_type": "markdown",
   "metadata": {},
   "source": [
    "> **Note the following:** \n",
    "> 1. This is *not* meant to be an example of an actual **model analysis project**, just an example of how to structure such a project.\n",
    "> 1. Remember the general advice on structuring and commenting your code\n",
    "> 1. The `modelproject.py` file includes a function which could be used multiple times in this notebook."
   ]
  },
  {
   "cell_type": "markdown",
   "metadata": {},
   "source": [
    "Imports and set magics:"
   ]
  },
  {
   "cell_type": "code",
   "execution_count": 2,
   "metadata": {},
   "outputs": [
    {
     "name": "stdout",
     "output_type": "stream",
     "text": [
      "The autoreload extension is already loaded. To reload it, use:\n",
      "  %reload_ext autoreload\n"
     ]
    }
   ],
   "source": [
    "import numpy as np\n",
    "from scipy import optimize\n",
    "import sympy as sm\n",
    "\n",
    "# autoreload modules when code is run\n",
    "%load_ext autoreload\n",
    "%autoreload 2\n",
    "\n",
    "# local modules\n",
    "import modelproject"
   ]
  },
  {
   "cell_type": "markdown",
   "metadata": {},
   "source": [
    "# Model description"
   ]
  },
  {
   "cell_type": "markdown",
   "metadata": {},
   "source": [
    "In this project we solve the dynamic malthusian model. The model is from the course \"Economic History\" here at KU and it models preindustrial malthusian growth. In this model the parameters as defined as: \\\n",
    "$Y$ is production \\\n",
    "$L$ is labor/population \\\n",
    "$A$ is technology \\\n",
    "$X$ is land, which is constant, a core mechanism \\\n",
    "$n$ is population growthrate \\\n",
    "$\\mu$ is  mortality rate \n",
    "\n",
    "The model is defined by the three equations below, where 1. describe how output is a function of labor technology and land, where both land and technology is constant, a core assumption. Equation 2 describes how the population growthrate is positively correlated with income, by the parameter $\\eta$, another essenttial assumption. Equation 3 describes how population in the next period is given by the growthrate and the mortality rate. The model is then mean to describe how average income will be afected negatively by population growth and positively by moratality, as land and technology are set resources. \n",
    "\n",
    "1) $ Y_t = L_t^{1-\\alpha}(AX)^\\alpha $ \\\n",
    "2) $n_t=\\eta y_t \\\\$\n",
    "3) $L_{t-1}=n_tL_t+(1-\\mu)L_t$"
   ]
  },
  {
   "cell_type": "markdown",
   "metadata": {},
   "source": [
    "## Analytical solution"
   ]
  },
  {
   "cell_type": "markdown",
   "metadata": {},
   "source": [
    "This model has an analytical solution,. thoguh only when mu is equalt to 1. We will showcase both scenarios by using sympy.\n",
    "Firstly we write the model up, and then we solve it where we use $y_t = \\frac{Y_t}{L_t}$ too find an expression for $y_{t+1}$"
   ]
  },
  {
   "cell_type": "code",
   "execution_count": 85,
   "metadata": {},
   "outputs": [
    {
     "data": {
      "text/latex": [
       "$\\displaystyle y_{t+1} = \\left(A X\\right)^{\\alpha} \\left(A X y_{t}^{\\frac{1}{\\alpha}} \\left(\\eta y_{t} - \\mu + 1\\right)\\right)^{- \\alpha}$"
      ],
      "text/plain": [
       "Eq(y_t+1, (A*X)**alpha/(A*X*y_t**(1/alpha)*(eta*y_t - mu + 1))**alpha)"
      ]
     },
     "execution_count": 85,
     "metadata": {},
     "output_type": "execute_result"
    }
   ],
   "source": [
    "# Define symbols\n",
    "y_t_1, y_t, Y_t_1, Y_t, L_t, L_t_1, A, X, alpha, eta, n_t, mu = sm.symbols('y_t+1 y_t Y_t+1 Y_t L_t L_t+1 A X alpha eta n_t mu')\n",
    "\n",
    "#Define equations\n",
    "equation1 = sm.Eq(Y_t, L_t**(1-alpha) * (A*X)**alpha) #First equation\n",
    "equation2 = sm.Eq(n_t, eta * y_t) #Second equation\n",
    "equation3 = sm.Eq(L_t_1, n_t*L_t + (1-mu)*L_t) #Third equation\n",
    "equation1_1 = sm.Eq(Y_t_1, L_t_1**(1-alpha) * (A*X)**alpha) #First equation in t+1\n",
    "\n",
    "# We now substitue our second equation of L_t+1 into the produciton in next period.\n",
    "equation1_1_new = equation1_1.subs(L_t_1, n_t*L_t + (1-mu)*L_t)\n",
    "# we then divide the equation with L_t+1\n",
    "equation1_1_new1 = sm.Eq(equation1_1_new.lhs / L_t_1, equation1_1_new.rhs / ( n_t*L_t + (1-mu)*L_t))\n",
    "# We then substitute the right hand side with the small y\n",
    "equation1_1_new2 = equation1_1_new1.subs(Y_t_1/L_t_1, y_t_1)\n",
    "# We simplify\n",
    "equation1_1_new3 = sm.simplify(equation1_1_new2)\n",
    "# We now substitue another expression for L_t in the equation \n",
    "equation1_1_new4 = equation1_1_new3.subs(L_t, A*X*y_t**(1/alpha))\n",
    "# We now substitue the second equation into it\n",
    "equation1_1_new5 = equation1_1_new4.subs(n_t,eta * y_t)\n",
    "# We then simplify it\n",
    "final_with_mu = sm.simplify(equation1_1_new5)\n",
    "final_without_mu = simplified.subs(mu, 1)\n",
    "final_with_mu"
   ]
  },
  {
   "cell_type": "code",
   "execution_count": 86,
   "metadata": {},
   "outputs": [
    {
     "data": {
      "text/latex": [
       "$\\displaystyle y_{t+1} = \\left(A X\\right)^{\\alpha} \\left(A X \\eta y_{t} y_{t}^{\\frac{1}{\\alpha}}\\right)^{- \\alpha}$"
      ],
      "text/plain": [
       "Eq(y_t+1, (A*X)**alpha/(A*X*eta*y_t*y_t**(1/alpha))**alpha)"
      ]
     },
     "execution_count": 86,
     "metadata": {},
     "output_type": "execute_result"
    }
   ],
   "source": [
    "final_without_mu"
   ]
  },
  {
   "cell_type": "markdown",
   "metadata": {},
   "source": [
    "The above equation is how the diffrence is first with mu not being 1 and then afterwards being equal to 1, but it seems that sympy has problems with simplifying exponents, the correct version is hence: \\\n",
    "$\n",
    "y_{t+1}=\\eta^\\alpha y_t^{1-\\alpha}\n",
    "$"
   ]
  },
  {
   "cell_type": "markdown",
   "metadata": {},
   "source": [
    "## Numerical solution"
   ]
  },
  {
   "cell_type": "markdown",
   "metadata": {},
   "source": [
    "You can always solve a model numerically. \n",
    "\n",
    "Define first the set of parameters you need. \n",
    "\n",
    "Then choose one of the optimization algorithms that we have gone through in the lectures based on what you think is most fitting for your model.\n",
    "\n",
    "Are there any problems with convergence? Does the model converge for all starting values? Make a lot of testing to figure these things out. "
   ]
  },
  {
   "cell_type": "markdown",
   "metadata": {},
   "source": [
    "# Further analysis"
   ]
  },
  {
   "cell_type": "markdown",
   "metadata": {},
   "source": [
    "Make detailed vizualizations of how your model changes with parameter values. \n",
    "\n",
    "Try to make an extension of the model. "
   ]
  },
  {
   "cell_type": "markdown",
   "metadata": {},
   "source": [
    "# Conclusion"
   ]
  },
  {
   "cell_type": "markdown",
   "metadata": {},
   "source": [
    "Add concise conclusion. "
   ]
  }
 ],
 "metadata": {
  "kernelspec": {
   "display_name": "base",
   "language": "python",
   "name": "python3"
  },
  "language_info": {
   "codemirror_mode": {
    "name": "ipython",
    "version": 3
   },
   "file_extension": ".py",
   "mimetype": "text/x-python",
   "name": "python",
   "nbconvert_exporter": "python",
   "pygments_lexer": "ipython3",
   "version": "3.11.7"
  },
  "toc-autonumbering": true,
  "vscode": {
   "interpreter": {
    "hash": "47ef90cdf3004d3f859f1fb202523c65c07ba7c22eefd261b181f4744e2d0403"
   }
  }
 },
 "nbformat": 4,
 "nbformat_minor": 4
}
