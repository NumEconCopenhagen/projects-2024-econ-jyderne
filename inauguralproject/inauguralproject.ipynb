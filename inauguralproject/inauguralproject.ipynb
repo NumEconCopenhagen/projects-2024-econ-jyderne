{
 "cells": [
  {
   "cell_type": "markdown",
   "metadata": {},
   "source": [
    "# Inaugural Project"
   ]
  },
  {
   "attachments": {},
   "cell_type": "markdown",
   "metadata": {},
   "source": [
    "> **Note the following:** \n",
    "> 1. This is an example of how to structure your **inaugural project**.\n",
    "> 1. Remember the general advice on structuring and commenting your code\n",
    "> 1. The `inauguralproject.py` file includes a function which can be used multiple times in this notebook."
   ]
  },
  {
   "cell_type": "markdown",
   "metadata": {},
   "source": [
    "Imports and set magics:"
   ]
  },
  {
   "cell_type": "code",
   "execution_count": 14,
   "metadata": {},
   "outputs": [
    {
     "name": "stdout",
     "output_type": "stream",
     "text": [
      "The autoreload extension is already loaded. To reload it, use:\n",
      "  %reload_ext autoreload\n"
     ]
    }
   ],
   "source": [
    "import numpy as np\n",
    "\n",
    "# autoreload modules when code is run. Otherwise, python will not see recent changes. \n",
    "%load_ext autoreload\n",
    "%autoreload 2\n",
    "\n",
    "# Import your own code\n",
    "import exchange_economy"
   ]
  },
  {
   "cell_type": "markdown",
   "metadata": {},
   "source": [
    "# Question 1"
   ]
  },
  {
   "cell_type": "markdown",
   "metadata": {},
   "source": [
    "**Explain how you solve the model**"
   ]
  },
  {
   "cell_type": "code",
   "execution_count": 15,
   "metadata": {},
   "outputs": [
    {
     "ename": "NameError",
     "evalue": "name 'ExchangeEconomyClass' is not defined",
     "output_type": "error",
     "traceback": [
      "\u001b[1;31m---------------------------------------------------------------------------\u001b[0m",
      "\u001b[1;31mNameError\u001b[0m                                 Traceback (most recent call last)",
      "Cell \u001b[1;32mIn[15], line 5\u001b[0m\n\u001b[0;32m      2\u001b[0m \u001b[38;5;28;01mimport\u001b[39;00m \u001b[38;5;21;01mmatplotlib\u001b[39;00m\u001b[38;5;21;01m.\u001b[39;00m\u001b[38;5;21;01mpyplot\u001b[39;00m \u001b[38;5;28;01mas\u001b[39;00m \u001b[38;5;21;01mplt\u001b[39;00m \n\u001b[0;32m      4\u001b[0m \u001b[38;5;66;03m# Initialize the exchange economy\u001b[39;00m\n\u001b[1;32m----> 5\u001b[0m economy \u001b[38;5;241m=\u001b[39m ExchangeEconomyClass()\n\u001b[0;32m      7\u001b[0m \u001b[38;5;66;03m# Calculate the utility at endowment for both A and B\u001b[39;00m\n\u001b[0;32m      8\u001b[0m utility_endowment_A \u001b[38;5;241m=\u001b[39m economy\u001b[38;5;241m.\u001b[39mutility_A(economy\u001b[38;5;241m.\u001b[39mpar\u001b[38;5;241m.\u001b[39mw1A, economy\u001b[38;5;241m.\u001b[39mpar\u001b[38;5;241m.\u001b[39mw2A)\n",
      "\u001b[1;31mNameError\u001b[0m: name 'ExchangeEconomyClass' is not defined"
     ]
    }
   ],
   "source": [
    "#Starting with refering to utillity-functions and conditions:\n",
    "import matplotlib.pyplot as plt \n",
    "\n",
    "# Initialize the exchange economy\n",
    "economy = ExchangeEconomyClass()\n",
    "\n",
    "# Calculate the utility at endowment for both A and B\n",
    "utility_endowment_A = economy.utility_A(economy.par.w1A, economy.par.w2A)\n",
    "utility_endowment_B = economy.utility_B(1 - economy.par.w1A, 1 - economy.par.w2A)\n",
    "\n",
    "# Discretize the space\n",
    "N = 75\n",
    "x1A_values = np.linspace(0, 1, N)\n",
    "x2A_values = np.linspace(0, 1, N)\n",
    "\n",
    "# Initialize lists to hold Pareto improvements\n",
    "pareto_x1A = []\n",
    "pareto_x2A = []\n",
    "\n",
    "# Check each combination\n",
    "for x1A in x1A_values:\n",
    "    for x2A in x2A_values:\n",
    "        x1B = 1 - x1A\n",
    "        x2B = 1 - x2A\n",
    "\n",
    "        # Calculate utilities\n",
    "        utility_A = economy.utility_A(x1A, x2A)\n",
    "        utility_B = economy.utility_B(x1B, x2B)\n",
    "\n",
    "        # Check if both A and B are at least as well off\n",
    "        if utility_A >= utility_endowment_A and utility_B >= utility_endowment_B:\n",
    "            pareto_x1A.append(x1A)\n",
    "            pareto_x2A.append(x2A)\n",
    "\n",
    "# Plot the Pareto improvements in the Edgeworth box\n",
    "plt.figure(figsize=(10, 8))\n",
    "plt.plot(pareto_x1A, pareto_x2A, 'o', markersize=2, label='Pareto Improvements')\n",
    "plt.title('Edgeworth Box for Pareto Improvements')\n",
    "plt.xlabel('$x_{1A}$')\n",
    "plt.ylabel('$x_{2A}$')\n",
    "plt.xlim(-0.1,1.1)\n",
    "plt.ylim(-0.1,1.1)\n",
    "plt.legend()\n",
    "plt.grid(True)\n",
    "black_box = plt.Rectangle((0, 0), 1, 1, facecolor='black', edgecolor='black', alpha=0.1)  # alpha controls transparency\n",
    "plt.gca().add_patch(black_box)\n",
    "plt.show()"
   ]
  },
  {
   "cell_type": "markdown",
   "metadata": {},
   "source": [
    "# Question 2"
   ]
  },
  {
   "cell_type": "markdown",
   "metadata": {},
   "source": [
    "Explain your code and procedure"
   ]
  },
  {
   "cell_type": "code",
   "execution_count": null,
   "metadata": {},
   "outputs": [
    {
     "ename": "NameError",
     "evalue": "name 'ExchangeEconomyClass' is not defined",
     "output_type": "error",
     "traceback": [
      "\u001b[1;31m---------------------------------------------------------------------------\u001b[0m",
      "\u001b[1;31mNameError\u001b[0m                                 Traceback (most recent call last)",
      "Cell \u001b[1;32mIn[11], line 2\u001b[0m\n\u001b[0;32m      1\u001b[0m \u001b[38;5;66;03m# Initialize the economy\u001b[39;00m\n\u001b[1;32m----> 2\u001b[0m economy \u001b[38;5;241m=\u001b[39m ExchangeEconomyClass()\n\u001b[0;32m      4\u001b[0m \u001b[38;5;66;03m# Set up the price range\u001b[39;00m\n\u001b[0;32m      5\u001b[0m N \u001b[38;5;241m=\u001b[39m \u001b[38;5;241m75\u001b[39m  \u001b[38;5;66;03m# Granularity\u001b[39;00m\n",
      "\u001b[1;31mNameError\u001b[0m: name 'ExchangeEconomyClass' is not defined"
     ]
    }
   ],
   "source": [
    "# Initialize the economy\n",
    "economy = ExchangeEconomyClass()\n",
    "\n",
    "# Set up the price range\n",
    "N = 75  # Granularity\n",
    "P1 = np.linspace(0.5, 2.5, N)\n",
    "\n",
    "# Perform the calculations\n",
    "market_clearing_errors = []\n",
    "for p1 in P1:\n",
    "    eps1, eps2 = economy.check_market_clearing(p1)\n",
    "    market_clearing_errors.append((p1, eps1, eps2))\n",
    "\n",
    "# Unpack the results for plotting\n",
    "prices, errors_eps1, errors_eps2 = zip(*market_clearing_errors)\n",
    "\n",
    "# Combine the plots for both errors\n",
    "plt.figure(figsize=(12, 6))\n",
    "plt.plot(prices, errors_eps1, label='$\\epsilon_1$ Error', color='blue')\n",
    "plt.plot(prices, errors_eps2, label='$\\epsilon_2$ Error', color='red')\n",
    "plt.title('Market Clearing Errors for Goods 1 and 2')\n",
    "plt.xlabel('$p_1$')\n",
    "plt.ylabel('Error')\n",
    "plt.axhline(0, color='black', lw=1, ls='--')  # Reference line at error = 0\n",
    "plt.grid(True)\n",
    "plt.legend()\n",
    "plt.show()\n",
    "\n",
    "# Calculate the price p1 that minimizes the sum of the absolute errors\n",
    "absolute_errors_sum = [abs(e1) + abs(e2) for e1, e2 in zip(errors_eps1, errors_eps2)]\n",
    "min_error_index = np.argmin(absolute_errors_sum)\n",
    "optimal_p1 = prices[min_error_index]\n",
    "min_error = absolute_errors_sum[min_error_index]\n",
    "\n",
    "optimal_p1, min_error"
   ]
  },
  {
   "cell_type": "markdown",
   "metadata": {},
   "source": [
    "# Question 3"
   ]
  },
  {
   "cell_type": "markdown",
   "metadata": {},
   "source": [
    "Explain your code and procedure"
   ]
  },
  {
   "cell_type": "code",
   "execution_count": null,
   "metadata": {},
   "outputs": [
    {
     "ename": "NameError",
     "evalue": "name 'ExchangeEconomyClass' is not defined",
     "output_type": "error",
     "traceback": [
      "\u001b[1;31m---------------------------------------------------------------------------\u001b[0m",
      "\u001b[1;31mNameError\u001b[0m                                 Traceback (most recent call last)",
      "Cell \u001b[1;32mIn[10], line 5\u001b[0m\n\u001b[0;32m      2\u001b[0m \u001b[38;5;28;01mimport\u001b[39;00m \u001b[38;5;21;01mnumpy\u001b[39;00m \u001b[38;5;28;01mas\u001b[39;00m \u001b[38;5;21;01mnp\u001b[39;00m\n\u001b[0;32m      3\u001b[0m \u001b[38;5;28;01mfrom\u001b[39;00m \u001b[38;5;21;01mscipy\u001b[39;00m\u001b[38;5;21;01m.\u001b[39;00m\u001b[38;5;21;01moptimize\u001b[39;00m \u001b[38;5;28;01mimport\u001b[39;00m brentq\n\u001b[1;32m----> 5\u001b[0m economy \u001b[38;5;241m=\u001b[39m ExchangeEconomyClass()\n\u001b[0;32m      7\u001b[0m \u001b[38;5;66;03m# Define the excess demand function for good 1\u001b[39;00m\n\u001b[0;32m      8\u001b[0m \u001b[38;5;28;01mdef\u001b[39;00m \u001b[38;5;21mexcess_demand_good_1\u001b[39m(p1):\n",
      "\u001b[1;31mNameError\u001b[0m: name 'ExchangeEconomyClass' is not defined"
     ]
    }
   ],
   "source": [
    "from types import SimpleNamespace\n",
    "import numpy as np\n",
    "from scipy.optimize import brentq\n",
    "\n",
    "economy = ExchangeEconomyClass()\n",
    "\n",
    "# Define the excess demand function for good 1\n",
    "def excess_demand_good_1(p1):\n",
    "    eps1, _ = economy.check_market_clearing(p1)\n",
    "    return eps1\n",
    "\n",
    "# Use the Brent method to find the market clearing price of good 1, p1\n",
    "market_clearing_price_p1 = brentq(excess_demand_good_1, 0.01, 5)  # Search between 0.01 and 5\n",
    "\n",
    "market_clearing_price_p1"
   ]
  },
  {
   "cell_type": "markdown",
   "metadata": {},
   "source": [
    "# Question 4a\n"
   ]
  },
  {
   "cell_type": "code",
   "execution_count": null,
   "metadata": {},
   "outputs": [],
   "source": []
  },
  {
   "cell_type": "markdown",
   "metadata": {},
   "source": [
    "# Question 4b\n"
   ]
  },
  {
   "cell_type": "code",
   "execution_count": null,
   "metadata": {},
   "outputs": [],
   "source": [
    "\n"
   ]
  }
 ],
 "metadata": {
  "kernelspec": {
   "display_name": "base",
   "language": "python",
   "name": "python3"
  },
  "language_info": {
   "codemirror_mode": {
    "name": "ipython",
    "version": 3
   },
   "file_extension": ".py",
   "mimetype": "text/x-python",
   "name": "python",
   "nbconvert_exporter": "python",
   "pygments_lexer": "ipython3",
   "version": "3.11.7"
  },
  "toc-autonumbering": true,
  "vscode": {
   "interpreter": {
    "hash": "47ef90cdf3004d3f859f1fb202523c65c07ba7c22eefd261b181f4744e2d0403"
   }
  }
 },
 "nbformat": 4,
 "nbformat_minor": 4
}
